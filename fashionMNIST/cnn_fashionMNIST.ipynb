{
 "cells": [
  {
   "cell_type": "markdown",
   "id": "11794683",
   "metadata": {},
   "source": [
    "# FashionMNIST Image Classification with CNN in PyTorch\n",
    "\n",
    "This notebook demonstrates a basic convolutional neural network (CNN) applied to the FashionMNIST dataset using PyTorch. The goal is to classify grayscale images of clothing into one of 10 categories such as T-shirt/top, Trouser, Sneaker, etc.\n",
    "\n",
    "Notebook structure:\n",
    "- Data loading and preprocessing\n",
    "- CNN model definition\n",
    "- Training and evaluation\n",
    "- Visualizations of performance"
   ]
  },
  {
   "cell_type": "markdown",
   "id": "fce4fdb1",
   "metadata": {},
   "source": [
    "# Imports"
   ]
  },
  {
   "cell_type": "code",
   "execution_count": null,
   "id": "bd208899",
   "metadata": {},
   "outputs": [],
   "source": [
    "import torch\n",
    "from torch import nn\n",
    "import matplotlib.pyplot as plt\n",
    "import numpy as np\n",
    "from helper_functions import plot_decision_boundary, plot_predictions, accuracy_fn\n",
    "from pathlib import Path\n",
    "\n",
    "#torchvision imports\n",
    "import torchvision\n",
    "from torchvision import datasets, transforms\n",
    "from torchvision.transforms import ToTensor\n",
    "from torch.utils.data import DataLoader\n",
    "\n",
    "#for timing the model runtime\n",
    "from timeit import default_timer as timer\n",
    "\n",
    "#for progress bar\n",
    "from tqdm.auto import tqdm\n"
   ]
  },
  {
   "cell_type": "code",
   "execution_count": null,
   "id": "b3d37c18",
   "metadata": {},
   "outputs": [
    {
     "name": "stdout",
     "output_type": "stream",
     "text": [
      "0.22.0\n"
     ]
    }
   ],
   "source": [
    "#key libraries\n",
    "#torchvision\n",
    "#torchvision.datasets\n",
    "#torchvision.models give pretrianed computer vision models\n",
    "#torchvision.transforms: manipulating vision data\n",
    "\n",
    "#torch.utils.data.Dataset : base Dataset class\n",
    "#torch.utils.data.DataLoader : creates python iterable over dataset\n",
    "print(torchvision.__version__)"
   ]
  },
  {
   "cell_type": "markdown",
   "id": "c67fb494",
   "metadata": {},
   "source": [
    "## Dataset: FashionMNIST\n",
    "\n",
    "FashionMNIST is a dataset of 28x28 grayscale images of clothing items, with 10 total classes:\n",
    "- T-shirt/top\n",
    "- Trouser\n",
    "- Pullover\n",
    "- Dress\n",
    "- Coat\n",
    "- Sandal\n",
    "- Shirt\n",
    "- Sneaker\n",
    "- Bag\n",
    "- Ankle boot\n",
    "\n",
    "The dataset is split into 60,000 training images and 10,000 test images. PyTorch's `torchvision.datasets` module is used for loading and transforming the data into tensors.\n"
   ]
  },
  {
   "cell_type": "code",
   "execution_count": null,
   "id": "f79def2f",
   "metadata": {},
   "outputs": [],
   "source": [
    "#Step 1 is getting a dataset\n",
    "#FashionMNIST\n",
    "\n",
    "train_data = datasets.FashionMNIST(\n",
    "    root=\"data\",\n",
    "    train=True,\n",
    "    download=True,\n",
    "    transform=torchvision.transforms.ToTensor(),\n",
    "    target_transform=None\n",
    ")\n",
    "\n",
    "test_data = datasets.FashionMNIST(\n",
    "    root=\"data\",\n",
    "    train=False, #test data\n",
    "    download=True,\n",
    "    transform=torchvision.transforms.ToTensor()\n",
    ")\n",
    "\n"
   ]
  },
  {
   "cell_type": "code",
   "execution_count": null,
   "id": "9728bfec",
   "metadata": {},
   "outputs": [
    {
     "data": {
      "text/plain": [
       "(60000, 10000, tuple, 2)"
      ]
     },
     "execution_count": 4,
     "metadata": {},
     "output_type": "execute_result"
    }
   ],
   "source": [
    "len(train_data), len(test_data), type(train_data[0]), len(train_data[0])"
   ]
  },
  {
   "cell_type": "code",
   "execution_count": null,
   "id": "00633f55",
   "metadata": {},
   "outputs": [
    {
     "data": {
      "text/plain": [
       "(tensor([[[0.0000, 0.0000, 0.0000, 0.0000, 0.0000, 0.0000, 0.0000, 0.0000,\n",
       "           0.0000, 0.0000, 0.0000, 0.0000, 0.0000, 0.0000, 0.0000, 0.0000,\n",
       "           0.0000, 0.0000, 0.0000, 0.0000, 0.0000, 0.0000, 0.0000, 0.0000,\n",
       "           0.0000, 0.0000, 0.0000, 0.0000],\n",
       "          [0.0000, 0.0000, 0.0000, 0.0000, 0.0000, 0.0000, 0.0000, 0.0000,\n",
       "           0.0000, 0.0000, 0.0000, 0.0000, 0.0000, 0.0000, 0.0000, 0.0000,\n",
       "           0.0000, 0.0000, 0.0000, 0.0000, 0.0000, 0.0000, 0.0000, 0.0000,\n",
       "           0.0000, 0.0000, 0.0000, 0.0000],\n",
       "          [0.0000, 0.0000, 0.0000, 0.0000, 0.0000, 0.0000, 0.0000, 0.0000,\n",
       "           0.0000, 0.0000, 0.0000, 0.0000, 0.0000, 0.0000, 0.0000, 0.0000,\n",
       "           0.0000, 0.0000, 0.0000, 0.0000, 0.0000, 0.0000, 0.0000, 0.0000,\n",
       "           0.0000, 0.0000, 0.0000, 0.0000],\n",
       "          [0.0000, 0.0000, 0.0000, 0.0000, 0.0000, 0.0000, 0.0000, 0.0000,\n",
       "           0.0000, 0.0000, 0.0000, 0.0000, 0.0039, 0.0000, 0.0000, 0.0510,\n",
       "           0.2863, 0.0000, 0.0000, 0.0039, 0.0157, 0.0000, 0.0000, 0.0000,\n",
       "           0.0000, 0.0039, 0.0039, 0.0000],\n",
       "          [0.0000, 0.0000, 0.0000, 0.0000, 0.0000, 0.0000, 0.0000, 0.0000,\n",
       "           0.0000, 0.0000, 0.0000, 0.0000, 0.0118, 0.0000, 0.1412, 0.5333,\n",
       "           0.4980, 0.2431, 0.2118, 0.0000, 0.0000, 0.0000, 0.0039, 0.0118,\n",
       "           0.0157, 0.0000, 0.0000, 0.0118],\n",
       "          [0.0000, 0.0000, 0.0000, 0.0000, 0.0000, 0.0000, 0.0000, 0.0000,\n",
       "           0.0000, 0.0000, 0.0000, 0.0000, 0.0235, 0.0000, 0.4000, 0.8000,\n",
       "           0.6902, 0.5255, 0.5647, 0.4824, 0.0902, 0.0000, 0.0000, 0.0000,\n",
       "           0.0000, 0.0471, 0.0392, 0.0000],\n",
       "          [0.0000, 0.0000, 0.0000, 0.0000, 0.0000, 0.0000, 0.0000, 0.0000,\n",
       "           0.0000, 0.0000, 0.0000, 0.0000, 0.0000, 0.0000, 0.6078, 0.9255,\n",
       "           0.8118, 0.6980, 0.4196, 0.6118, 0.6314, 0.4275, 0.2510, 0.0902,\n",
       "           0.3020, 0.5098, 0.2824, 0.0588],\n",
       "          [0.0000, 0.0000, 0.0000, 0.0000, 0.0000, 0.0000, 0.0000, 0.0000,\n",
       "           0.0000, 0.0000, 0.0000, 0.0039, 0.0000, 0.2706, 0.8118, 0.8745,\n",
       "           0.8549, 0.8471, 0.8471, 0.6392, 0.4980, 0.4745, 0.4784, 0.5725,\n",
       "           0.5529, 0.3451, 0.6745, 0.2588],\n",
       "          [0.0000, 0.0000, 0.0000, 0.0000, 0.0000, 0.0000, 0.0000, 0.0000,\n",
       "           0.0000, 0.0039, 0.0039, 0.0039, 0.0000, 0.7843, 0.9098, 0.9098,\n",
       "           0.9137, 0.8980, 0.8745, 0.8745, 0.8431, 0.8353, 0.6431, 0.4980,\n",
       "           0.4824, 0.7686, 0.8980, 0.0000],\n",
       "          [0.0000, 0.0000, 0.0000, 0.0000, 0.0000, 0.0000, 0.0000, 0.0000,\n",
       "           0.0000, 0.0000, 0.0000, 0.0000, 0.0000, 0.7176, 0.8824, 0.8471,\n",
       "           0.8745, 0.8941, 0.9216, 0.8902, 0.8784, 0.8706, 0.8784, 0.8667,\n",
       "           0.8745, 0.9608, 0.6784, 0.0000],\n",
       "          [0.0000, 0.0000, 0.0000, 0.0000, 0.0000, 0.0000, 0.0000, 0.0000,\n",
       "           0.0000, 0.0000, 0.0000, 0.0000, 0.0000, 0.7569, 0.8941, 0.8549,\n",
       "           0.8353, 0.7765, 0.7059, 0.8314, 0.8235, 0.8275, 0.8353, 0.8745,\n",
       "           0.8627, 0.9529, 0.7922, 0.0000],\n",
       "          [0.0000, 0.0000, 0.0000, 0.0000, 0.0000, 0.0000, 0.0000, 0.0000,\n",
       "           0.0000, 0.0039, 0.0118, 0.0000, 0.0471, 0.8588, 0.8627, 0.8314,\n",
       "           0.8549, 0.7529, 0.6627, 0.8902, 0.8157, 0.8549, 0.8784, 0.8314,\n",
       "           0.8863, 0.7725, 0.8196, 0.2039],\n",
       "          [0.0000, 0.0000, 0.0000, 0.0000, 0.0000, 0.0000, 0.0000, 0.0000,\n",
       "           0.0000, 0.0000, 0.0235, 0.0000, 0.3882, 0.9569, 0.8706, 0.8627,\n",
       "           0.8549, 0.7961, 0.7765, 0.8667, 0.8431, 0.8353, 0.8706, 0.8627,\n",
       "           0.9608, 0.4667, 0.6549, 0.2196],\n",
       "          [0.0000, 0.0000, 0.0000, 0.0000, 0.0000, 0.0000, 0.0000, 0.0000,\n",
       "           0.0000, 0.0157, 0.0000, 0.0000, 0.2157, 0.9255, 0.8941, 0.9020,\n",
       "           0.8941, 0.9412, 0.9098, 0.8353, 0.8549, 0.8745, 0.9176, 0.8510,\n",
       "           0.8510, 0.8196, 0.3608, 0.0000],\n",
       "          [0.0000, 0.0000, 0.0039, 0.0157, 0.0235, 0.0275, 0.0078, 0.0000,\n",
       "           0.0000, 0.0000, 0.0000, 0.0000, 0.9294, 0.8863, 0.8510, 0.8745,\n",
       "           0.8706, 0.8588, 0.8706, 0.8667, 0.8471, 0.8745, 0.8980, 0.8431,\n",
       "           0.8549, 1.0000, 0.3020, 0.0000],\n",
       "          [0.0000, 0.0118, 0.0000, 0.0000, 0.0000, 0.0000, 0.0000, 0.0000,\n",
       "           0.0000, 0.2431, 0.5686, 0.8000, 0.8941, 0.8118, 0.8353, 0.8667,\n",
       "           0.8549, 0.8157, 0.8275, 0.8549, 0.8784, 0.8745, 0.8588, 0.8431,\n",
       "           0.8784, 0.9569, 0.6235, 0.0000],\n",
       "          [0.0000, 0.0000, 0.0000, 0.0000, 0.0706, 0.1725, 0.3216, 0.4196,\n",
       "           0.7412, 0.8941, 0.8627, 0.8706, 0.8510, 0.8863, 0.7843, 0.8039,\n",
       "           0.8275, 0.9020, 0.8784, 0.9176, 0.6902, 0.7373, 0.9804, 0.9725,\n",
       "           0.9137, 0.9333, 0.8431, 0.0000],\n",
       "          [0.0000, 0.2235, 0.7333, 0.8157, 0.8784, 0.8667, 0.8784, 0.8157,\n",
       "           0.8000, 0.8392, 0.8157, 0.8196, 0.7843, 0.6235, 0.9608, 0.7569,\n",
       "           0.8078, 0.8745, 1.0000, 1.0000, 0.8667, 0.9176, 0.8667, 0.8275,\n",
       "           0.8627, 0.9098, 0.9647, 0.0000],\n",
       "          [0.0118, 0.7922, 0.8941, 0.8784, 0.8667, 0.8275, 0.8275, 0.8392,\n",
       "           0.8039, 0.8039, 0.8039, 0.8627, 0.9412, 0.3137, 0.5882, 1.0000,\n",
       "           0.8980, 0.8667, 0.7373, 0.6039, 0.7490, 0.8235, 0.8000, 0.8196,\n",
       "           0.8706, 0.8941, 0.8824, 0.0000],\n",
       "          [0.3843, 0.9137, 0.7765, 0.8235, 0.8706, 0.8980, 0.8980, 0.9176,\n",
       "           0.9765, 0.8627, 0.7608, 0.8431, 0.8510, 0.9451, 0.2549, 0.2863,\n",
       "           0.4157, 0.4588, 0.6588, 0.8588, 0.8667, 0.8431, 0.8510, 0.8745,\n",
       "           0.8745, 0.8784, 0.8980, 0.1137],\n",
       "          [0.2941, 0.8000, 0.8314, 0.8000, 0.7569, 0.8039, 0.8275, 0.8824,\n",
       "           0.8471, 0.7255, 0.7725, 0.8078, 0.7765, 0.8353, 0.9412, 0.7647,\n",
       "           0.8902, 0.9608, 0.9373, 0.8745, 0.8549, 0.8314, 0.8196, 0.8706,\n",
       "           0.8627, 0.8667, 0.9020, 0.2627],\n",
       "          [0.1882, 0.7961, 0.7176, 0.7608, 0.8353, 0.7725, 0.7255, 0.7451,\n",
       "           0.7608, 0.7529, 0.7922, 0.8392, 0.8588, 0.8667, 0.8627, 0.9255,\n",
       "           0.8824, 0.8471, 0.7804, 0.8078, 0.7294, 0.7098, 0.6941, 0.6745,\n",
       "           0.7098, 0.8039, 0.8078, 0.4510],\n",
       "          [0.0000, 0.4784, 0.8588, 0.7569, 0.7020, 0.6706, 0.7176, 0.7686,\n",
       "           0.8000, 0.8235, 0.8353, 0.8118, 0.8275, 0.8235, 0.7843, 0.7686,\n",
       "           0.7608, 0.7490, 0.7647, 0.7490, 0.7765, 0.7529, 0.6902, 0.6118,\n",
       "           0.6549, 0.6941, 0.8235, 0.3608],\n",
       "          [0.0000, 0.0000, 0.2902, 0.7412, 0.8314, 0.7490, 0.6863, 0.6745,\n",
       "           0.6863, 0.7098, 0.7255, 0.7373, 0.7412, 0.7373, 0.7569, 0.7765,\n",
       "           0.8000, 0.8196, 0.8235, 0.8235, 0.8275, 0.7373, 0.7373, 0.7608,\n",
       "           0.7529, 0.8471, 0.6667, 0.0000],\n",
       "          [0.0078, 0.0000, 0.0000, 0.0000, 0.2588, 0.7843, 0.8706, 0.9294,\n",
       "           0.9373, 0.9490, 0.9647, 0.9529, 0.9569, 0.8667, 0.8627, 0.7569,\n",
       "           0.7490, 0.7020, 0.7137, 0.7137, 0.7098, 0.6902, 0.6510, 0.6588,\n",
       "           0.3882, 0.2275, 0.0000, 0.0000],\n",
       "          [0.0000, 0.0000, 0.0000, 0.0000, 0.0000, 0.0000, 0.0000, 0.1569,\n",
       "           0.2392, 0.1725, 0.2824, 0.1608, 0.1373, 0.0000, 0.0000, 0.0000,\n",
       "           0.0000, 0.0000, 0.0000, 0.0000, 0.0000, 0.0000, 0.0000, 0.0000,\n",
       "           0.0000, 0.0000, 0.0000, 0.0000],\n",
       "          [0.0000, 0.0000, 0.0000, 0.0000, 0.0000, 0.0000, 0.0000, 0.0000,\n",
       "           0.0000, 0.0000, 0.0000, 0.0000, 0.0000, 0.0000, 0.0000, 0.0000,\n",
       "           0.0000, 0.0000, 0.0000, 0.0000, 0.0000, 0.0000, 0.0000, 0.0000,\n",
       "           0.0000, 0.0000, 0.0000, 0.0000],\n",
       "          [0.0000, 0.0000, 0.0000, 0.0000, 0.0000, 0.0000, 0.0000, 0.0000,\n",
       "           0.0000, 0.0000, 0.0000, 0.0000, 0.0000, 0.0000, 0.0000, 0.0000,\n",
       "           0.0000, 0.0000, 0.0000, 0.0000, 0.0000, 0.0000, 0.0000, 0.0000,\n",
       "           0.0000, 0.0000, 0.0000, 0.0000]]]),\n",
       " 9)"
      ]
     },
     "execution_count": 5,
     "metadata": {},
     "output_type": "execute_result"
    }
   ],
   "source": [
    "image, label = train_data[0]\n",
    "image, label"
   ]
  },
  {
   "cell_type": "code",
   "execution_count": null,
   "id": "1e18e626",
   "metadata": {},
   "outputs": [
    {
     "data": {
      "text/plain": [
       "['T-shirt/top',\n",
       " 'Trouser',\n",
       " 'Pullover',\n",
       " 'Dress',\n",
       " 'Coat',\n",
       " 'Sandal',\n",
       " 'Shirt',\n",
       " 'Sneaker',\n",
       " 'Bag',\n",
       " 'Ankle boot']"
      ]
     },
     "execution_count": 6,
     "metadata": {},
     "output_type": "execute_result"
    }
   ],
   "source": [
    "#pytorch defaults to BCHW : batch, color, height, width\n",
    "\n",
    "class_names = train_data.classes\n",
    "class_names"
   ]
  },
  {
   "cell_type": "code",
   "execution_count": null,
   "id": "d0b8bb63",
   "metadata": {},
   "outputs": [
    {
     "data": {
      "text/plain": [
       "{'T-shirt/top': 0,\n",
       " 'Trouser': 1,\n",
       " 'Pullover': 2,\n",
       " 'Dress': 3,\n",
       " 'Coat': 4,\n",
       " 'Sandal': 5,\n",
       " 'Shirt': 6,\n",
       " 'Sneaker': 7,\n",
       " 'Bag': 8,\n",
       " 'Ankle boot': 9}"
      ]
     },
     "execution_count": 7,
     "metadata": {},
     "output_type": "execute_result"
    }
   ],
   "source": [
    "class_to_idx = train_data.class_to_idx\n",
    "class_to_idx"
   ]
  },
  {
   "cell_type": "code",
   "execution_count": null,
   "id": "60b276fe",
   "metadata": {},
   "outputs": [
    {
     "data": {
      "text/plain": [
       "tensor([9, 0, 0,  ..., 3, 0, 5])"
      ]
     },
     "execution_count": 8,
     "metadata": {},
     "output_type": "execute_result"
    }
   ],
   "source": [
    "train_data.targets"
   ]
  },
  {
   "cell_type": "code",
   "execution_count": null,
   "id": "659d31f1",
   "metadata": {},
   "outputs": [
    {
     "data": {
      "text/plain": [
       "(torch.Size([1, 28, 28]), 'Ankle boot')"
      ]
     },
     "execution_count": 9,
     "metadata": {},
     "output_type": "execute_result"
    }
   ],
   "source": [
    "image.shape, class_names[label] #label is int\n",
    "\n",
    "#black and white image so first index is 1. BCHW for pytorch!!"
   ]
  },
  {
   "cell_type": "code",
   "execution_count": null,
   "id": "e82f7f4c",
   "metadata": {},
   "outputs": [
    {
     "data": {
      "text/plain": [
       "<matplotlib.image.AxesImage at 0x13a4161a0>"
      ]
     },
     "execution_count": 10,
     "metadata": {},
     "output_type": "execute_result"
    },
    {
     "data": {
      "image/png": "[encoded data removed]",
      "text/plain": [
       "<Figure size 640x480 with 1 Axes>"
      ]
     },
     "metadata": {},
     "output_type": "display_data"
    }
   ],
   "source": [
    "#visualizing data\n",
    "plt.imshow(image.squeeze(),\n",
    "        cmap=\"gray\") #matplotlib expects BHWC, so we can just squeeze the 1"
   ]
  },
  {
   "cell_type": "code",
   "execution_count": null,
   "id": "b8682712",
   "metadata": {},
   "outputs": [
    {
     "data": {
      "image/png": "[encoded data removed]",
      "text/plain": [
       "<Figure size 900x900 with 16 Axes>"
      ]
     },
     "metadata": {},
     "output_type": "display_data"
    }
   ],
   "source": [
    "import random\n",
    "\n",
    "torch.manual_seed(42)\n",
    "fig = plt.figure(figsize=(9, 9))\n",
    "rows, cols = 4, 4\n",
    "for i in range(1, rows * cols + 1):\n",
    "    random_idx = torch.randint(0, len(train_data), size=[1]).item() #returns a scalar\n",
    "    img, label = train_data[random_idx]\n",
    "    fig.add_subplot(rows, cols, i)\n",
    "    plt.imshow(img.squeeze(), cmap=\"gray\")\n",
    "    plt.title(class_names[label])\n",
    "    plt.axis(False)"
   ]
  },
  {
   "cell_type": "markdown",
   "id": "285f0cad",
   "metadata": {},
   "source": [
    "# DataLoader\n",
    "\n",
    "DataLoader turns the dataset into a Python iterable, this is to turn the massive dataset into batches which is computationally effecient, and has better memory utilization."
   ]
  },
  {
   "cell_type": "code",
   "execution_count": null,
   "id": "e6f4fe21",
   "metadata": {},
   "outputs": [
    {
     "data": {
      "text/plain": [
       "(1875, 313)"
      ]
     },
     "execution_count": 13,
     "metadata": {},
     "output_type": "execute_result"
    }
   ],
   "source": [
    "BATCH_SIZE = 32\n",
    "\n",
    "#turn dataset into batches\n",
    "train_dataloader = DataLoader(dataset=train_data,\n",
    "                              batch_size=BATCH_SIZE,\n",
    "                              shuffle=True)\n",
    "test_dataloader = DataLoader(dataset=test_data,\n",
    "                             batch_size=BATCH_SIZE,\n",
    "                             shuffle=False)\n",
    "\n",
    "len(train_dataloader), len(test_dataloader)"
   ]
  },
  {
   "cell_type": "code",
   "execution_count": null,
   "id": "43f6ca20",
   "metadata": {},
   "outputs": [
    {
     "data": {
      "text/plain": [
       "(torch.Size([32, 1, 28, 28]), torch.Size([32]))"
      ]
     },
     "execution_count": 14,
     "metadata": {},
     "output_type": "execute_result"
    }
   ],
   "source": [
    "#check what's inside the training dataloader\n",
    "train_features_batch, train_labels_batch = next(iter(train_dataloader))\n",
    "\n",
    "train_features_batch.shape, train_labels_batch.shape #BCHW is right there"
   ]
  },
  {
   "cell_type": "code",
   "execution_count": null,
   "id": "6256a84e",
   "metadata": {},
   "outputs": [
    {
     "data": {
      "text/plain": [
       "(np.float64(-0.5), np.float64(27.5), np.float64(27.5), np.float64(-0.5))"
      ]
     },
     "execution_count": 15,
     "metadata": {},
     "output_type": "execute_result"
    },
    {
     "data": {
      "image/png": "[encoded data removed]",
      "text/plain": [
       "<Figure size 640x480 with 1 Axes>"
      ]
     },
     "metadata": {},
     "output_type": "display_data"
    }
   ],
   "source": [
    "#visualize a batch or a single image from a batch\n",
    "torch.manual_seed(42)\n",
    "random_idx = torch.randint(0, len(train_features_batch), size=[1]).item()\n",
    "\n",
    "img, label = train_features_batch[random_idx], train_labels_batch[random_idx]\n",
    "\n",
    "plt.imshow(img.squeeze(), cmap=\"gray\")\n",
    "plt.title(class_names[label])\n",
    "plt.axis(False)"
   ]
  },
  {
   "cell_type": "code",
   "execution_count": null,
   "id": "8f75e42c",
   "metadata": {},
   "outputs": [
    {
     "data": {
      "text/plain": [
       "(torch.Size([1, 28, 28]), torch.Size([1, 784]))"
      ]
     },
     "execution_count": 16,
     "metadata": {},
     "output_type": "execute_result"
    }
   ],
   "source": [
    "#start with baseline models\n",
    "#images require a flatten layer.\n",
    "\n",
    "#needed because nn.Linear only accepts [batch_size, features] shaped inputs\n",
    "\n",
    "flatten_model = nn.Flatten()\n",
    "\n",
    "x = train_features_batch[0]\n",
    "\n",
    "output = flatten_model(x)\n",
    "\n",
    "x.shape, output.shape"
   ]
  },
  {
   "cell_type": "code",
   "execution_count": null,
   "id": "94e155b7",
   "metadata": {},
   "outputs": [],
   "source": [
    "class MNISTFashion1(nn.Module):\n",
    "    def __init__(self, input_shape: int, hidden_units: int, output_shape: int):\n",
    "        super().__init__()\n",
    "        self.layer_stack = nn.Sequential(\n",
    "            nn.Flatten(),\n",
    "            nn.Linear(in_features=input_shape,\n",
    "                      out_features=hidden_units),\n",
    "            nn.Linear(in_features=hidden_units,\n",
    "                    out_features=output_shape)\n",
    "        )\n",
    "\n",
    "    def forward(self, x):\n",
    "        return self.layer_stack(x)"
   ]
  },
  {
   "cell_type": "code",
   "execution_count": null,
   "id": "221ee75a",
   "metadata": {},
   "outputs": [
    {
     "data": {
      "text/plain": [
       "(MNISTFashion1(\n",
       "   (layer_stack): Sequential(\n",
       "     (0): Flatten(start_dim=1, end_dim=-1)\n",
       "     (1): Linear(in_features=784, out_features=32, bias=True)\n",
       "     (2): Linear(in_features=32, out_features=10, bias=True)\n",
       "   )\n",
       " ),\n",
       " OrderedDict([('layer_stack.1.weight',\n",
       "               tensor([[ 0.0273,  0.0296, -0.0084,  ..., -0.0142,  0.0093,  0.0135],\n",
       "                       [-0.0188, -0.0354,  0.0187,  ..., -0.0106, -0.0001,  0.0115],\n",
       "                       [-0.0008,  0.0017,  0.0045,  ..., -0.0127, -0.0188,  0.0059],\n",
       "                       ...,\n",
       "                       [-0.0023,  0.0071,  0.0330,  ...,  0.0164, -0.0095, -0.0053],\n",
       "                       [ 0.0167, -0.0324,  0.0086,  ..., -0.0090,  0.0203, -0.0100],\n",
       "                       [-0.0118,  0.0119, -0.0080,  ..., -0.0193,  0.0170,  0.0246]])),\n",
       "              ('layer_stack.1.bias',\n",
       "               tensor([ 0.0161, -0.0159,  0.0234,  0.0084, -0.0339, -0.0047, -0.0323, -0.0125,\n",
       "                        0.0065, -0.0339, -0.0036,  0.0208,  0.0018,  0.0308, -0.0056, -0.0006,\n",
       "                       -0.0294, -0.0100,  0.0059,  0.0271,  0.0328, -0.0049,  0.0312,  0.0041,\n",
       "                        0.0242,  0.0212, -0.0234,  0.0345,  0.0085, -0.0198, -0.0343,  0.0012])),\n",
       "              ('layer_stack.2.weight',\n",
       "               tensor([[-0.0630,  0.1486,  0.0598, -0.0858,  0.0406, -0.1010,  0.1632,  0.0980,\n",
       "                         0.0875,  0.0770, -0.0174, -0.0463,  0.0163, -0.1765, -0.0924,  0.0205,\n",
       "                         0.1294,  0.0004, -0.0606,  0.1201,  0.0473, -0.1084,  0.0779,  0.0448,\n",
       "                        -0.1452,  0.0331, -0.1172,  0.1611, -0.1113, -0.0304, -0.0737,  0.0163],\n",
       "                       [ 0.1541, -0.0840,  0.0566, -0.0379, -0.0748,  0.0059,  0.1328, -0.1597,\n",
       "                        -0.0737,  0.1342, -0.0850,  0.0408,  0.0665,  0.0146,  0.0142, -0.1183,\n",
       "                        -0.0277, -0.0340, -0.0090, -0.0195, -0.0413, -0.1051,  0.1259,  0.0513,\n",
       "                         0.0590,  0.0877,  0.0037,  0.1148,  0.0550, -0.0534,  0.0025, -0.1541],\n",
       "                       [-0.0916,  0.1645,  0.1750, -0.1264, -0.0770,  0.0973, -0.1580, -0.0196,\n",
       "                        -0.1620, -0.0836, -0.0927, -0.0084, -0.0470, -0.0974,  0.0924, -0.0782,\n",
       "                        -0.1739,  0.0861,  0.1161, -0.0382,  0.0052,  0.0226, -0.0221, -0.0359,\n",
       "                        -0.1439,  0.0774, -0.0007,  0.0938,  0.0117, -0.0702, -0.0873,  0.0230],\n",
       "                       [ 0.0904,  0.1758,  0.1584,  0.1450, -0.1339,  0.0320,  0.1610,  0.0801,\n",
       "                         0.1178,  0.1678, -0.0534,  0.0945,  0.1047,  0.0031, -0.1039,  0.0488,\n",
       "                         0.1472,  0.0220,  0.0555,  0.0243,  0.1248,  0.0941, -0.0396,  0.0288,\n",
       "                        -0.0827,  0.0277, -0.1524,  0.0606,  0.1071, -0.1483,  0.0482, -0.0243],\n",
       "                       [-0.0701,  0.0791,  0.0080, -0.0932,  0.1213,  0.0460, -0.1222, -0.0288,\n",
       "                        -0.0959, -0.1112,  0.1687, -0.0186, -0.0104, -0.0211, -0.0397, -0.1500,\n",
       "                        -0.0233, -0.0737,  0.0736, -0.0049, -0.1732, -0.1049, -0.1327,  0.0108,\n",
       "                         0.1092,  0.0813,  0.0108,  0.1011, -0.0192,  0.1630, -0.1473, -0.0471],\n",
       "                       [-0.0242, -0.1337,  0.0558,  0.1211,  0.0294,  0.0154,  0.1532, -0.0630,\n",
       "                        -0.0277,  0.0656, -0.0967, -0.1336, -0.0358,  0.1153, -0.0910,  0.0508,\n",
       "                         0.0032,  0.1623,  0.0932, -0.0934, -0.1701,  0.1052, -0.1626, -0.1036,\n",
       "                         0.1716,  0.0521, -0.0024, -0.1343, -0.0331,  0.0237,  0.1047, -0.0691],\n",
       "                       [-0.0311,  0.0352, -0.1738, -0.0547, -0.1616, -0.0636, -0.1045,  0.0867,\n",
       "                        -0.1222, -0.1665, -0.0203, -0.0833, -0.0925, -0.0413,  0.0659, -0.1564,\n",
       "                        -0.1282,  0.0129,  0.0792,  0.0069,  0.1756,  0.0879, -0.1194,  0.1000,\n",
       "                        -0.0915,  0.1303, -0.0449,  0.1472, -0.0415, -0.0514, -0.1292,  0.1749],\n",
       "                       [-0.1009, -0.0771, -0.0970, -0.1748, -0.0872,  0.1457,  0.1128,  0.0454,\n",
       "                        -0.0519,  0.0244, -0.0329, -0.1448,  0.1201,  0.0927,  0.1526, -0.1651,\n",
       "                         0.0277,  0.0997, -0.0245,  0.0820,  0.0878, -0.0871,  0.1300,  0.0447,\n",
       "                        -0.0193,  0.0639,  0.1336,  0.0329,  0.0855, -0.1200, -0.0820, -0.0305],\n",
       "                       [ 0.1010,  0.1004, -0.0481, -0.0278, -0.0243, -0.0819,  0.1486,  0.0892,\n",
       "                         0.1154, -0.0598, -0.0425, -0.1472,  0.1315, -0.0669, -0.0146, -0.1174,\n",
       "                         0.0364,  0.0967, -0.1757,  0.1357,  0.0325,  0.0844, -0.1545,  0.0453,\n",
       "                         0.1731,  0.1165, -0.0794,  0.0096, -0.1209,  0.0709,  0.0839,  0.0766],\n",
       "                       [-0.1532,  0.0859,  0.0067, -0.1235, -0.0604,  0.1554, -0.1420,  0.1045,\n",
       "                         0.1722, -0.1298, -0.1634, -0.1339,  0.0033, -0.1657,  0.1447,  0.1574,\n",
       "                        -0.0198,  0.0966,  0.1450,  0.0565, -0.0870, -0.0059,  0.1240, -0.0727,\n",
       "                         0.0041, -0.0238, -0.0338, -0.0296, -0.0913, -0.0549,  0.1620, -0.0544]])),\n",
       "              ('layer_stack.2.bias',\n",
       "               tensor([-0.0251,  0.1526,  0.0626, -0.1248, -0.0499, -0.0673, -0.0983, -0.1468,\n",
       "                        0.0876,  0.1363]))]))"
      ]
     },
     "execution_count": 18,
     "metadata": {},
     "output_type": "execute_result"
    }
   ],
   "source": [
    "torch.manual_seed(42)\n",
    "#instantiate the model\n",
    "model_0 = MNISTFashion1(\n",
    "    input_shape=784, #output of flatten\n",
    "    hidden_units=32,\n",
    "    output_shape=len(class_names) #one for each class\n",
    ").to(\"cpu\")\n",
    "\n",
    "model_0, model_0.state_dict()"
   ]
  },
  {
   "cell_type": "code",
   "execution_count": null,
   "id": "0efcac31",
   "metadata": {},
   "outputs": [
    {
     "data": {
      "text/plain": [
       "(tensor([[ 0.0461, -0.1040,  0.2095,  0.0458, -0.0841, -0.3552,  0.0832, -0.1319,\n",
       "           0.1477,  0.0418]], grad_fn=<AddmmBackward0>),\n",
       " torch.Size([1, 10]))"
      ]
     },
     "execution_count": 19,
     "metadata": {},
     "output_type": "execute_result"
    }
   ],
   "source": [
    "#random test with dummy x to check if the shapes are correct\n",
    "dummy_x = torch.rand([1, 1, 28, 28])\n",
    "model_0(dummy_x), model_0(dummy_x).shape"
   ]
  },
  {
   "cell_type": "code",
   "execution_count": null,
   "id": "d5144f94",
   "metadata": {},
   "outputs": [],
   "source": [
    "#set up loss and optimizer and evaluation metrics\n",
    "\n",
    "loss_fn = nn.CrossEntropyLoss()\n",
    "\n",
    "optimizer = torch.optim.SGD(params=model_0.parameters(),\n",
    "                            lr=0.1)\n",
    "\n",
    "#accuracy = accuracy_fn() #imported from helper_functions.py"
   ]
  },
  {
   "cell_type": "code",
   "execution_count": null,
   "id": "936186ba",
   "metadata": {},
   "outputs": [
    {
     "name": "stdout",
     "output_type": "stream",
     "text": [
      "Train time on device: cpu: 0.000 seconds\n"
     ]
    },
    {
     "data": {
      "text/plain": [
       "4.1749997762963176e-05"
      ]
     },
     "execution_count": 21,
     "metadata": {},
     "output_type": "execute_result"
    }
   ],
   "source": [
    "#creating functions to time our experiments:\n",
    "#trakcing metrics; model performance and time (how fast it runs)\n",
    "#often a tradeoff between the two\n",
    "\n",
    "start_time = timer() #placed afterwards to see how fast this cell runs\n",
    "def print_train_time(start: float,\n",
    "                     end: float,\n",
    "                     device: torch.device=None):\n",
    "    total_time = end - start\n",
    "    print(f\"Train time on device: {device}: {total_time:.3f} seconds\")\n",
    "    return total_time\n",
    "\n",
    "\n",
    "end_time = timer()\n",
    "print_train_time(start=start_time, end=end_time, device=\"cpu\")\n"
   ]
  },
  {
   "cell_type": "markdown",
   "id": "74cb7ea4",
   "metadata": {},
   "source": [
    "## Model Training\n",
    "\n",
    "The model is trained for N epochs using a standard training loop. We track training loss and accuracy to evaluate learning progress. A validation/test set is used for final evaluation.\n",
    "\n",
    "Steps:\n",
    "- Loop through the batches\n",
    "- Loop through training batches, perform training steps and calculate the train loss per batch\n",
    "- Loop through testing batches, perform testing steps, calculate the test loss per batch\n",
    "- Print results\n"
   ]
  },
  {
   "cell_type": "code",
   "execution_count": null,
   "id": "a6eceb78",
   "metadata": {},
   "outputs": [
    {
     "data": {
      "application/vnd.jupyter.widget-view+json": {
       "model_id": "c8ca06b47e4c42febc4731042b135306",
       "version_major": 2,
       "version_minor": 0
      },
      "text/plain": [
       "  0%|          | 0/3 [00:00<?, ?it/s]"
      ]
     },
     "metadata": {},
     "output_type": "display_data"
    },
    {
     "name": "stdout",
     "output_type": "stream",
     "text": [
      "Epoch: 0\n",
      "----\n",
      "Looked at 0 / 60000 samples.\n",
      "Looked at 12800 / 60000 samples.\n",
      "Looked at 25600 / 60000 samples.\n",
      "Looked at 38400 / 60000 samples.\n",
      "Looked at 51200 / 60000 samples.\n",
      "Train loss: 0.4117 | Test loss: 0.4544, Test acc: 84.17%\n",
      "\n",
      "Epoch: 1\n",
      "----\n",
      "Looked at 0 / 60000 samples.\n",
      "Looked at 12800 / 60000 samples.\n",
      "Looked at 25600 / 60000 samples.\n",
      "Looked at 38400 / 60000 samples.\n",
      "Looked at 51200 / 60000 samples.\n",
      "Train loss: 0.4107 | Test loss: 0.4570, Test acc: 84.20%\n",
      "\n",
      "Epoch: 2\n",
      "----\n",
      "Looked at 0 / 60000 samples.\n",
      "Looked at 12800 / 60000 samples.\n",
      "Looked at 25600 / 60000 samples.\n",
      "Looked at 38400 / 60000 samples.\n",
      "Looked at 51200 / 60000 samples.\n",
      "Train loss: 0.4082 | Test loss: 0.4617, Test acc: 84.23%\n",
      "\n",
      "Train time on device: cpu: 5.279 seconds\n"
     ]
    }
   ],
   "source": [
    "torch.manual_seed(42)\n",
    "\n",
    "train_time_start_on_cpu = timer()\n",
    "\n",
    "epochs=3\n",
    "\n",
    "#training and test loop\n",
    "\n",
    "for epoch in tqdm(range(epochs)):\n",
    "    print(f\"Epoch: {epoch}\\n----\")\n",
    "\n",
    "    train_loss = 0\n",
    "\n",
    "    for batch, (X, y) in enumerate(train_dataloader): #basically X, y represents image, label here but use X and y for convention\n",
    "        \n",
    "        model_0.train()\n",
    "\n",
    "        #fwd pass\n",
    "        y_pred = model_0(X)\n",
    "\n",
    "        #calc loss\n",
    "        loss = loss_fn(y_pred, y)\n",
    "        train_loss += loss #accumilates train loss\n",
    "\n",
    "        optimizer.zero_grad()\n",
    "\n",
    "        loss.backward()\n",
    "\n",
    "        optimizer.step()\n",
    "\n",
    "        #print\n",
    "        if batch % 400 == 0:\n",
    "            print(f\"Looked at {batch * len(X)} / {len(train_dataloader.dataset)} samples.\")\n",
    "    \n",
    "    #divide total train loss by length of train dataloader\n",
    "    train_loss /= len(train_dataloader)\n",
    "\n",
    "    ##TESTING LOOP\n",
    "\n",
    "    test_loss, test_acc = 0, 0\n",
    "\n",
    "    model_0.eval()\n",
    "    with torch.inference_mode():\n",
    "        for X, y in test_dataloader:\n",
    "            \n",
    "            #fwd pass\n",
    "            test_pred = model_0(X)\n",
    "            #loss\n",
    "            test_loss += loss_fn(test_pred, y)\n",
    "\n",
    "            test_acc += accuracy_fn(y_true=y,\n",
    "                                   y_pred=test_pred.argmax(dim=1)) #logits to probability\n",
    "            \n",
    "        #test loss and acc average per batch\n",
    "        test_loss /= len(test_dataloader)\n",
    "        test_acc /= len(test_dataloader)\n",
    "    \n",
    "    print(f\"Train loss: {train_loss:.4f} | Test loss: {test_loss:.4f}, Test acc: {test_acc:.2f}%\\n\")\n",
    "\n",
    "train_time_end_on_cpu = timer()\n",
    "total_train_time_model_0 = print_train_time(start=train_time_start_on_cpu,\n",
    "                                                end=train_time_end_on_cpu,\n",
    "                                                device=str(next(model_0.parameters()).device))"
   ]
  },
  {
   "cell_type": "code",
   "execution_count": null,
   "id": "561209d0",
   "metadata": {},
   "outputs": [
    {
     "data": {
      "application/vnd.jupyter.widget-view+json": {
       "model_id": "d8baafcd2e18447186a9b6416c35c59e",
       "version_major": 2,
       "version_minor": 0
      },
      "text/plain": [
       "  0%|          | 0/313 [00:00<?, ?it/s]"
      ]
     },
     "metadata": {},
     "output_type": "display_data"
    },
    {
     "data": {
      "text/plain": [
       "{'model_name': 'MNISTFashion1',\n",
       " 'model_loss': 0.46171027421951294,\n",
       " 'model_acc': 84.22523961661342}"
      ]
     },
     "execution_count": 47,
     "metadata": {},
     "output_type": "execute_result"
    }
   ],
   "source": [
    "#Make predictions and get model results\n",
    "\n",
    "def eval_model(model:torch.nn.Module,\n",
    "               data_loader:torch.utils.data.DataLoader,\n",
    "               loss_fn:torch.nn.Module,\n",
    "               accuracy_fn,\n",
    "               device):\n",
    "    \"\"\"\n",
    "    Returns a dictionary containing the results of model predicting on data_loader.\n",
    "    \"\"\"\n",
    "\n",
    "    loss, acc = 0, 0\n",
    "    model.eval()\n",
    "    with torch.inference_mode():\n",
    "        for X, y in tqdm(data_loader):\n",
    "            #make preds\n",
    "            #make data device agnostic\n",
    "            X, y = X.to(device), y.to(device)\n",
    "            \n",
    "            y_pred = model(X)\n",
    "\n",
    "            #accumulate loss and acc per batch\n",
    "            loss += loss_fn(y_pred, y)\n",
    "            acc += accuracy_fn(y_true=y,\n",
    "                               y_pred=y_pred.argmax(dim=1))\n",
    "        \n",
    "        loss /= len(data_loader)\n",
    "        acc /= len(data_loader)\n",
    "    \n",
    "    return {\"model_name\": model.__class__.__name__,\n",
    "            \"model_loss\": loss.item(),\n",
    "            \"model_acc\": acc}\n",
    "\n",
    "model_0_results = eval_model(model=model_0,\n",
    "                             data_loader = test_dataloader,\n",
    "                             loss_fn=loss_fn,\n",
    "                             accuracy_fn=accuracy_fn,\n",
    "                             device='cpu')\n",
    "\n",
    "model_0_results #This summarizes the baseline model"
   ]
  },
  {
   "cell_type": "code",
   "execution_count": null,
   "id": "4d231df0",
   "metadata": {},
   "outputs": [
    {
     "name": "stdout",
     "output_type": "stream",
     "text": [
      "mps\n"
     ]
    }
   ],
   "source": [
    "#Now build model 1 and set up device agnostic code to run on the gpu/mps\n",
    "\n",
    "device = \"mps\" if torch.mps.is_available() else \"cpu\"\n",
    "print(device)"
   ]
  },
  {
   "cell_type": "code",
   "execution_count": null,
   "id": "ff4c2134",
   "metadata": {},
   "outputs": [
    {
     "data": {
      "text/plain": [
       "(MNISTFashion2(\n",
       "   (layer_stack): Sequential(\n",
       "     (0): Flatten(start_dim=1, end_dim=-1)\n",
       "     (1): Linear(in_features=784, out_features=10, bias=True)\n",
       "     (2): ReLU()\n",
       "     (3): Linear(in_features=10, out_features=10, bias=True)\n",
       "   )\n",
       " ),\n",
       " OrderedDict([('layer_stack.1.weight',\n",
       "               tensor([[ 0.0273,  0.0296, -0.0084,  ..., -0.0142,  0.0093,  0.0135],\n",
       "                       [-0.0188, -0.0354,  0.0187,  ..., -0.0106, -0.0001,  0.0115],\n",
       "                       [-0.0008,  0.0017,  0.0045,  ..., -0.0127, -0.0188,  0.0059],\n",
       "                       ...,\n",
       "                       [-0.0116,  0.0273, -0.0344,  ...,  0.0176,  0.0283, -0.0011],\n",
       "                       [-0.0230,  0.0257,  0.0291,  ..., -0.0187, -0.0087,  0.0001],\n",
       "                       [ 0.0176, -0.0147,  0.0053,  ..., -0.0336, -0.0221,  0.0205]],\n",
       "                      device='mps:0')),\n",
       "              ('layer_stack.1.bias',\n",
       "               tensor([-0.0093,  0.0283, -0.0033,  0.0255,  0.0017,  0.0037, -0.0302, -0.0123,\n",
       "                        0.0018,  0.0163], device='mps:0')),\n",
       "              ('layer_stack.3.weight',\n",
       "               tensor([[ 0.0614, -0.0687,  0.0021,  0.2718,  0.2109,  0.1079, -0.2279, -0.1063,\n",
       "                         0.2019,  0.2847],\n",
       "                       [-0.1495,  0.1344, -0.0740,  0.2006, -0.0475, -0.2514, -0.3130, -0.0118,\n",
       "                         0.0932, -0.1864],\n",
       "                       [ 0.2488,  0.1500,  0.1907,  0.1457, -0.3050, -0.0580,  0.1643,  0.1565,\n",
       "                        -0.2877, -0.1792],\n",
       "                       [ 0.2305, -0.2618,  0.2397, -0.0610,  0.0232,  0.1542,  0.0851, -0.2027,\n",
       "                         0.1030, -0.2715],\n",
       "                       [-0.1596, -0.0555, -0.0633,  0.2302, -0.1726,  0.2654,  0.1473,  0.1029,\n",
       "                         0.2252, -0.2160],\n",
       "                       [-0.2725,  0.0118,  0.1559,  0.1596,  0.0132,  0.3024,  0.1124,  0.1366,\n",
       "                        -0.1533,  0.0965],\n",
       "                       [-0.1184, -0.2555, -0.2057, -0.1909, -0.0477, -0.1324,  0.2905,  0.1307,\n",
       "                        -0.2629,  0.0133],\n",
       "                       [ 0.2727, -0.0127,  0.0513,  0.0863, -0.1043, -0.2047, -0.1185, -0.0825,\n",
       "                         0.2488, -0.2571],\n",
       "                       [ 0.0425, -0.1209, -0.0336, -0.0281, -0.1227,  0.0730,  0.0747, -0.1816,\n",
       "                         0.1943,  0.2853],\n",
       "                       [-0.1310,  0.0645, -0.1171,  0.2168, -0.0245, -0.2820,  0.0736,  0.2621,\n",
       "                         0.0012, -0.0810]], device='mps:0')),\n",
       "              ('layer_stack.3.bias',\n",
       "               tensor([-0.0087,  0.1791,  0.2712, -0.0791,  0.1685,  0.1762,  0.2825,  0.2266,\n",
       "                       -0.2612, -0.2613], device='mps:0'))]))"
      ]
     },
     "execution_count": 52,
     "metadata": {},
     "output_type": "execute_result"
    }
   ],
   "source": [
    "#Does this dataset require non-linearities?\n",
    "\n",
    "class MNISTFashion2(nn.Module):\n",
    "    def __init__(self, \n",
    "                 input_shape: int, \n",
    "                 hidden_units: int,\n",
    "                 output_shape: int):\n",
    "        super().__init__()\n",
    "\n",
    "        self.layer_stack = nn.Sequential(\n",
    "            nn.Flatten(),\n",
    "            nn.Linear(in_features = input_shape,\n",
    "                      out_features = hidden_units),\n",
    "            nn.ReLU(),\n",
    "            nn.Linear(in_features = hidden_units,\n",
    "                      out_features= output_shape)\n",
    "            )\n",
    "    def forward(self, x: torch.Tensor):\n",
    "        return self.layer_stack(x)\n",
    "\n",
    "torch.manual_seed(42)\n",
    "model_1 = MNISTFashion2(input_shape=784,\n",
    "                        hidden_units=10,\n",
    "                        output_shape=len(class_names)).to(device)\n",
    "\n",
    "model_1, model_1.state_dict()"
   ]
  },
  {
   "cell_type": "code",
   "execution_count": null,
   "id": "2a97cc2c",
   "metadata": {},
   "outputs": [],
   "source": [
    "#loss fucntion and optimizer\n",
    "\n",
    "loss_fn = nn.CrossEntropyLoss() #measures how wrong the model is\n",
    "optimizer = torch.optim.SGD(params=model_1.parameters(),\n",
    "                            lr=0.1)\n",
    "#optmimizer tries to update the model parameters to minimize the loss\n"
   ]
  },
  {
   "cell_type": "code",
   "execution_count": null,
   "id": "58201498",
   "metadata": {},
   "outputs": [],
   "source": [
    "#time to make a function for the training loop and testing loop\n",
    "\n",
    "def train_step(model: torch.nn.Module,\n",
    "               data_loader: torch.utils.data.DataLoader,\n",
    "               loss_fn: torch.nn.Module,\n",
    "               optimizer:torch.optim.Optimizer,\n",
    "               accuracy_fn,\n",
    "               device: torch.device = device):\n",
    "    \"\"\"Performs training step with model trying to learn on \n",
    "    data_loader.\"\"\"\n",
    "    \n",
    "    train_loss, train_acc = 0, 0\n",
    "    \n",
    "    model.train()\n",
    "\n",
    "    for batch, (X, y) in enumerate(data_loader): #basically X, y represents image, label here but use X and y for convention\n",
    "\n",
    "        #Send data to device\n",
    "        X, y = X.to(device), y.to(device)  \n",
    "        \n",
    "\n",
    "        #fwd pass\n",
    "        y_pred = model(X)\n",
    "\n",
    "        #calc loss and acc\n",
    "        loss = loss_fn(y_pred, y)\n",
    "        train_loss += loss #accumilates train loss\n",
    "        train_acc += accuracy_fn(y_true=y,\n",
    "                                 y_pred=y_pred.argmax(dim=1))\n",
    "\n",
    "        optimizer.zero_grad()\n",
    "\n",
    "        loss.backward()\n",
    "\n",
    "        optimizer.step()\n",
    "\n",
    "    #divide total train loss by length of train dataloader\n",
    "    train_loss /= len(data_loader)\n",
    "    train_acc /= len(data_loader)\n",
    "    \n",
    "    print(f\"Train Loss : {train_loss:.3f} | Train acc : {train_acc:.2f}%\")\n",
    "\n",
    "\n",
    "def test_step(model: torch.nn.Module,\n",
    "              data_loader: torch.utils.data.DataLoader,\n",
    "              loss_fn: torch.nn.Module,\n",
    "            #   optimizer: torch.optim.Optimizer, not need in test step\n",
    "              accuracy_fn,\n",
    "              device: torch.device = device):\n",
    "    \"\"\"performs a testing loop step on model going over data_loader\"\"\"\n",
    "    \n",
    "    test_loss, test_acc = 0, 0\n",
    "\n",
    "    model.eval()\n",
    "\n",
    "    with torch.inference_mode():\n",
    "        for X, y in data_loader:\n",
    "            #send data to target device\n",
    "            X, y = X.to(device), y.to(device)\n",
    "            #fwd pass\n",
    "            test_pred = model(X)\n",
    "\n",
    "            #loss and acc\n",
    "            test_loss += loss_fn(test_pred, y)\n",
    "            test_acc += accuracy_fn(y_true=y,\n",
    "                                    y_pred=test_pred.argmax(dim=1)) #logits to prediction labels\n",
    "            \n",
    "\n",
    "        #adjust metrics and print out\n",
    "        test_loss /= len(data_loader) #average across a whole batch, per step\n",
    "        test_acc /= len(data_loader)\n",
    "        print(f\"Test loss: {test_loss:.3f} | Test acc: {test_acc:.2f}%\\n\")"
   ]
  },
  {
   "cell_type": "code",
   "execution_count": null,
   "id": "6a29c106",
   "metadata": {},
   "outputs": [
    {
     "data": {
      "application/vnd.jupyter.widget-view+json": {
       "model_id": "0ead4509037449888b79cc80d46251fa",
       "version_major": 2,
       "version_minor": 0
      },
      "text/plain": [
       "  0%|          | 0/3 [00:00<?, ?it/s]"
      ]
     },
     "metadata": {},
     "output_type": "display_data"
    },
    {
     "name": "stdout",
     "output_type": "stream",
     "text": [
      "Epoch: 0 \n",
      "----\n",
      "Train Loss : 0.644 | Train acc : 77.08%\n",
      "Test loss: 0.542 | Test acc: 80.68%\n",
      "\n",
      "Epoch: 1 \n",
      "----\n",
      "Train Loss : 0.478 | Train acc : 83.19%\n",
      "Test loss: 0.466 | Test acc: 83.53%\n",
      "\n",
      "Epoch: 2 \n",
      "----\n",
      "Train Loss : 0.444 | Train acc : 84.48%\n",
      "Test loss: 0.491 | Test acc: 83.20%\n",
      "\n",
      "Train time on device: mps: 14.042 seconds\n"
     ]
    }
   ],
   "source": [
    "#create optimization loop\n",
    "\n",
    "#measure time:\n",
    "train_time_start_on_gpu = timer()\n",
    "\n",
    "epochs = 3\n",
    "\n",
    "#create the optimization loop using the two functions we defined\n",
    "for epoch in tqdm(range(epochs)):\n",
    "    print(f\"Epoch: {epoch} \\n----\")\n",
    "    \n",
    "    train_step(model=model_1,\n",
    "               data_loader=train_dataloader,\n",
    "               loss_fn=loss_fn,\n",
    "               optimizer=optimizer,\n",
    "               accuracy_fn=accuracy_fn,\n",
    "               device=device)\n",
    "    \n",
    "    test_step(model=model_1,\n",
    "              data_loader=test_dataloader,\n",
    "              loss_fn=loss_fn,\n",
    "              accuracy_fn=accuracy_fn,\n",
    "              device=device)\n",
    "\n",
    "train_time_end_on_gpu = timer()\n",
    "total_train_time_model_1 = print_train_time(start=train_time_start_on_gpu,\n",
    "                                            end=train_time_end_on_gpu,\n",
    "                                            device=device)"
   ]
  },
  {
   "cell_type": "code",
   "execution_count": null,
   "id": "e72ca650",
   "metadata": {},
   "outputs": [
    {
     "data": {
      "application/vnd.jupyter.widget-view+json": {
       "model_id": "bd14b06c1f91471b9ff856295ee04f1b",
       "version_major": 2,
       "version_minor": 0
      },
      "text/plain": [
       "  0%|          | 0/313 [00:00<?, ?it/s]"
      ]
     },
     "metadata": {},
     "output_type": "display_data"
    }
   ],
   "source": [
    "#model performance didn't really improve, so we keep on moving\n",
    "#with model improvement and testing\n",
    "\n",
    "model_1_results = eval_model(model=model_1,\n",
    "                             data_loader=test_dataloader,\n",
    "                             loss_fn=loss_fn,\n",
    "                             accuracy_fn=accuracy_fn,\n",
    "                             device=device)\n"
   ]
  },
  {
   "cell_type": "code",
   "execution_count": null,
   "id": "c1bfa19d",
   "metadata": {},
   "outputs": [
    {
     "data": {
      "text/plain": [
       "({'model_name': 'MNISTFashion1',\n",
       "  'model_loss': 0.46171027421951294,\n",
       "  'model_acc': 84.22523961661342},\n",
       " {'model_name': 'MNISTFashion2',\n",
       "  'model_loss': 0.4905567467212677,\n",
       "  'model_acc': 83.19688498402556})"
      ]
     },
     "execution_count": 60,
     "metadata": {},
     "output_type": "execute_result"
    }
   ],
   "source": [
    "model_0_results, model_1_results"
   ]
  },
  {
   "cell_type": "code",
   "execution_count": null,
   "id": "a0e4e511",
   "metadata": {},
   "outputs": [],
   "source": [
    "#Model 2: CNN ConvNets\n",
    "class MNISTFashion3(nn.Module):\n",
    "    \"\"\"Model that replicates TinyVGG\"\"\"\n",
    "    def __init__(self,\n",
    "                 input_shape:int,\n",
    "                 hidden_units:int,\n",
    "                 output_shape:int):\n",
    "        #Architecutre > Blocks > Layers\n",
    "        super().__init__()\n",
    "        self.conv_block_1 = nn.Sequential(\n",
    "            nn.Conv2d(in_channels=input_shape,\n",
    "                      out_channels=hidden_units,\n",
    "                      kernel_size=3, #hyperparameter\n",
    "                      stride=1, #hyperparameter\n",
    "                      padding=1), #hyperparameter\n",
    "            nn.ReLU(),\n",
    "            nn.Conv2d(in_channels=hidden_units,\n",
    "                      out_channels=hidden_units,\n",
    "                      kernel_size=3, #hyperparameter\n",
    "                      stride=1, #hyperparameter\n",
    "                      padding=1), #hyperparameter\n",
    "            nn.MaxPool2d(kernel_size=2)\n",
    "        )\n",
    "\n",
    "        self.conv_block_2 = nn.Sequential(\n",
    "            nn.Conv2d(in_channels=hidden_units,\n",
    "                      out_channels=hidden_units,\n",
    "                      kernel_size=3, #hyperparameter\n",
    "                      stride=1, #hyperparameter\n",
    "                      padding=1), #hyperparameter\n",
    "            nn.ReLU(),\n",
    "            nn.Conv2d(in_channels=hidden_units,\n",
    "                      out_channels=hidden_units,\n",
    "                      kernel_size=3, #hyperparameter\n",
    "                      stride=1, #hyperparameter\n",
    "                      padding=1), #hyperparameter\n",
    "            nn.MaxPool2d(kernel_size=2)\n",
    "        )\n",
    "\n",
    "        self.classifier_layer = nn.Sequential(\n",
    "            nn.Flatten(),\n",
    "            nn.Linear(in_features=490, #there's a trick to calculate this\n",
    "                      out_features=output_shape)\n",
    "        )\n",
    "    def forward(self, x):\n",
    "        x = self.conv_block_1(x)\n",
    "       # print(x.shape)\n",
    "        x = self.conv_block_2(x)\n",
    "        #print(x.shape) #this shape will guide what the input shape into the next layer would be. check later, this is (10,7,7) so it will be 490\n",
    "        x = self.classifier_layer(x)\n",
    "        return x"
   ]
  },
  {
   "cell_type": "code",
   "execution_count": null,
   "id": "c5f8803c",
   "metadata": {},
   "outputs": [
    {
     "data": {
      "text/plain": [
       "MNISTFashion3(\n",
       "  (conv_block_1): Sequential(\n",
       "    (0): Conv2d(1, 10, kernel_size=(3, 3), stride=(1, 1), padding=(1, 1))\n",
       "    (1): ReLU()\n",
       "    (2): Conv2d(10, 10, kernel_size=(3, 3), stride=(1, 1), padding=(1, 1))\n",
       "    (3): MaxPool2d(kernel_size=2, stride=2, padding=0, dilation=1, ceil_mode=False)\n",
       "  )\n",
       "  (conv_block_2): Sequential(\n",
       "    (0): Conv2d(10, 10, kernel_size=(3, 3), stride=(1, 1), padding=(1, 1))\n",
       "    (1): ReLU()\n",
       "    (2): Conv2d(10, 10, kernel_size=(3, 3), stride=(1, 1), padding=(1, 1))\n",
       "    (3): MaxPool2d(kernel_size=2, stride=2, padding=0, dilation=1, ceil_mode=False)\n",
       "  )\n",
       "  (classifier_layer): Sequential(\n",
       "    (0): Flatten(start_dim=1, end_dim=-1)\n",
       "    (1): Linear(in_features=490, out_features=10, bias=True)\n",
       "  )\n",
       ")"
      ]
     },
     "execution_count": 86,
     "metadata": {},
     "output_type": "execute_result"
    }
   ],
   "source": [
    "torch.manual_seed(42)\n",
    "model_2 = MNISTFashion3(input_shape=1, # no of channels, 1 for BW, 3 for colored\n",
    "                        hidden_units=10,\n",
    "                        output_shape=len(class_names)).to(device)\n",
    "\n",
    "model_2"
   ]
  },
  {
   "cell_type": "code",
   "execution_count": null,
   "id": "a92f1a38",
   "metadata": {},
   "outputs": [
    {
     "data": {
      "text/plain": [
       "(torch.Size([32, 3, 64, 64]), torch.Size([3, 64, 64]))"
      ]
     },
     "execution_count": 65,
     "metadata": {},
     "output_type": "execute_result"
    }
   ],
   "source": [
    "#Understanding Conv2d with toy data\n",
    "\n",
    "torch.manual_seed(42)\n",
    "\n",
    "#create batch of images\n",
    "images = torch.randn(size=(32, 3, 64, 64))\n",
    "test_image = images[0]\n",
    "\n",
    "images.shape, test_image.shape"
   ]
  },
  {
   "cell_type": "code",
   "execution_count": null,
   "id": "09c5c27d",
   "metadata": {},
   "outputs": [
    {
     "name": "stdout",
     "output_type": "stream",
     "text": [
      "torch.Size([3, 64, 64])\n",
      "torch.Size([10, 62, 62])\n",
      "torch.Size([3, 32, 32])\n",
      "torch.Size([10, 31, 31])\n"
     ]
    }
   ],
   "source": [
    "#single conv2d layer\n",
    "conv_layer = nn.Conv2d(in_channels=3, #this time our toy data has RGB\n",
    "                         out_channels=10, #no of hidden neurons\n",
    "                         kernel_size=3, #or (3,3) a tuple\n",
    "                         padding=0,\n",
    "                         stride=1)\n",
    "\n",
    "#pass toy data through this layer\n",
    "print(test_image.shape)\n",
    "conv_output = conv_layer(test_image)\n",
    "print(conv_output.shape)\n",
    "\n",
    "#single maxpool2d layer\n",
    "maxpool_layer = nn.MaxPool2d(kernel_size=2)\n",
    "maxpool_output = maxpool_layer(test_image)\n",
    "print(maxpool_output.shape) #takes max of value across the kernel\n",
    "\n",
    "#passing output of conv through maxpool\n",
    "conv_through_maxpool = maxpool_layer(conv_output)\n",
    "print(conv_through_maxpool.shape)"
   ]
  },
  {
   "cell_type": "code",
   "execution_count": null,
   "id": "85d36489",
   "metadata": {},
   "outputs": [],
   "source": [
    "# Setup loss and optimizer\n",
    "loss_fn = nn.CrossEntropyLoss()\n",
    "optimizer = torch.optim.SGD(params=model_2.parameters(), \n",
    "                             lr=0.1)"
   ]
  },
  {
   "cell_type": "markdown",
   "id": "9c394e2e",
   "metadata": {},
   "source": [
    "## Evaluation and Results\n",
    "\n",
    "The trained model is evaluated on the test set. Accuracy and loss are computed, and optional visualizations (e.g., confusion matrix or sample predictions) help assess performance.\n",
    "\n",
    "Typical accuracy for a basic CNN on FashionMNIST can range from 85% to 92%, depending on architecture and training time.\n"
   ]
  },
  {
   "cell_type": "code",
   "execution_count": null,
   "id": "3641f04c",
   "metadata": {},
   "outputs": [
    {
     "data": {
      "application/vnd.jupyter.widget-view+json": {
       "model_id": "4444b9276f1c4985933c4559bb0824bf",
       "version_major": 2,
       "version_minor": 0
      },
      "text/plain": [
       "  0%|          | 0/3 [00:00<?, ?it/s]"
      ]
     },
     "metadata": {},
     "output_type": "display_data"
    },
    {
     "name": "stdout",
     "output_type": "stream",
     "text": [
      "Epoch: 0\n",
      "---------\n",
      "Train Loss : 0.513 | Train acc : 81.38%\n",
      "Test loss: 0.365 | Test acc: 86.83%\n",
      "\n",
      "Epoch: 1\n",
      "---------\n",
      "Train Loss : 0.335 | Train acc : 87.99%\n",
      "Test loss: 0.328 | Test acc: 88.54%\n",
      "\n",
      "Epoch: 2\n",
      "---------\n",
      "Train Loss : 0.298 | Train acc : 89.34%\n",
      "Test loss: 0.296 | Test acc: 89.10%\n",
      "\n",
      "Train time on device: mps: 19.100 seconds\n"
     ]
    }
   ],
   "source": [
    "torch.manual_seed(42)\n",
    "\n",
    "# Measure time\n",
    "train_time_start_model_2 = timer()\n",
    "\n",
    "# Train and test model \n",
    "epochs = 3\n",
    "for epoch in tqdm(range(epochs)):\n",
    "    print(f\"Epoch: {epoch}\\n---------\")\n",
    "    train_step(data_loader=train_dataloader, \n",
    "        model=model_2, \n",
    "        loss_fn=loss_fn,\n",
    "        optimizer=optimizer,\n",
    "        accuracy_fn=accuracy_fn,\n",
    "        device=device\n",
    "    )\n",
    "    test_step(data_loader=test_dataloader,\n",
    "        model=model_2,\n",
    "        loss_fn=loss_fn,\n",
    "        accuracy_fn=accuracy_fn,\n",
    "        device=device\n",
    "    )\n",
    "\n",
    "train_time_end_model_2 = timer()\n",
    "total_train_time_model_2 = print_train_time(start=train_time_start_model_2,\n",
    "                                           end=train_time_end_model_2,\n",
    "                                           device=device)"
   ]
  },
  {
   "cell_type": "code",
   "execution_count": null,
   "id": "2c7ca0f5",
   "metadata": {},
   "outputs": [
    {
     "data": {
      "application/vnd.jupyter.widget-view+json": {
       "model_id": "c017780737f84d0ebe1d3df1f19fa663",
       "version_major": 2,
       "version_minor": 0
      },
      "text/plain": [
       "  0%|          | 0/313 [00:00<?, ?it/s]"
      ]
     },
     "metadata": {},
     "output_type": "display_data"
    },
    {
     "data": {
      "text/plain": [
       "{'model_name': 'MNISTFashion3',\n",
       " 'model_loss': 0.2960469424724579,\n",
       " 'model_acc': 89.09744408945687}"
      ]
     },
     "execution_count": 90,
     "metadata": {},
     "output_type": "execute_result"
    }
   ],
   "source": [
    "# Get model_2 results \n",
    "model_2_results = eval_model(\n",
    "    model=model_2,\n",
    "    data_loader=test_dataloader,\n",
    "    loss_fn=loss_fn,\n",
    "    accuracy_fn=accuracy_fn,\n",
    "    device=device\n",
    ")\n",
    "model_2_results"
   ]
  },
  {
   "cell_type": "code",
   "execution_count": null,
   "id": "d725fadd",
   "metadata": {},
   "outputs": [
    {
     "data": {
      "text/html": [
       "<div>\n",
       "<style scoped>\n",
       "    .dataframe tbody tr th:only-of-type {\n",
       "        vertical-align: middle;\n",
       "    }\n",
       "\n",
       "    .dataframe tbody tr th {\n",
       "        vertical-align: top;\n",
       "    }\n",
       "\n",
       "    .dataframe thead th {\n",
       "        text-align: right;\n",
       "    }\n",
       "</style>\n",
       "<table border=\"1\" class=\"dataframe\">\n",
       "  <thead>\n",
       "    <tr style=\"text-align: right;\">\n",
       "      <th></th>\n",
       "      <th>model_name</th>\n",
       "      <th>model_loss</th>\n",
       "      <th>model_acc</th>\n",
       "    </tr>\n",
       "  </thead>\n",
       "  <tbody>\n",
       "    <tr>\n",
       "      <th>0</th>\n",
       "      <td>MNISTFashion1</td>\n",
       "      <td>0.461710</td>\n",
       "      <td>84.225240</td>\n",
       "    </tr>\n",
       "    <tr>\n",
       "      <th>1</th>\n",
       "      <td>MNISTFashion2</td>\n",
       "      <td>0.490557</td>\n",
       "      <td>83.196885</td>\n",
       "    </tr>\n",
       "    <tr>\n",
       "      <th>2</th>\n",
       "      <td>MNISTFashion3</td>\n",
       "      <td>0.296047</td>\n",
       "      <td>89.097444</td>\n",
       "    </tr>\n",
       "  </tbody>\n",
       "</table>\n",
       "</div>"
      ],
      "text/plain": [
       "      model_name  model_loss  model_acc\n",
       "0  MNISTFashion1    0.461710  84.225240\n",
       "1  MNISTFashion2    0.490557  83.196885\n",
       "2  MNISTFashion3    0.296047  89.097444"
      ]
     },
     "execution_count": 91,
     "metadata": {},
     "output_type": "execute_result"
    }
   ],
   "source": [
    "import pandas as pd\n",
    "compare_results = pd.DataFrame([model_0_results, model_1_results, model_2_results])\n",
    "compare_results\n",
    "\n"
   ]
  },
  {
   "cell_type": "code",
   "execution_count": null,
   "id": "d58ce326",
   "metadata": {},
   "outputs": [
    {
     "data": {
      "text/html": [
       "<div>\n",
       "<style scoped>\n",
       "    .dataframe tbody tr th:only-of-type {\n",
       "        vertical-align: middle;\n",
       "    }\n",
       "\n",
       "    .dataframe tbody tr th {\n",
       "        vertical-align: top;\n",
       "    }\n",
       "\n",
       "    .dataframe thead th {\n",
       "        text-align: right;\n",
       "    }\n",
       "</style>\n",
       "<table border=\"1\" class=\"dataframe\">\n",
       "  <thead>\n",
       "    <tr style=\"text-align: right;\">\n",
       "      <th></th>\n",
       "      <th>model_name</th>\n",
       "      <th>model_loss</th>\n",
       "      <th>model_acc</th>\n",
       "      <th>training_time</th>\n",
       "    </tr>\n",
       "  </thead>\n",
       "  <tbody>\n",
       "    <tr>\n",
       "      <th>0</th>\n",
       "      <td>MNISTFashion1</td>\n",
       "      <td>0.461710</td>\n",
       "      <td>84.225240</td>\n",
       "      <td>5.279207</td>\n",
       "    </tr>\n",
       "    <tr>\n",
       "      <th>1</th>\n",
       "      <td>MNISTFashion2</td>\n",
       "      <td>0.490557</td>\n",
       "      <td>83.196885</td>\n",
       "      <td>14.041817</td>\n",
       "    </tr>\n",
       "    <tr>\n",
       "      <th>2</th>\n",
       "      <td>MNISTFashion3</td>\n",
       "      <td>0.296047</td>\n",
       "      <td>89.097444</td>\n",
       "      <td>19.099531</td>\n",
       "    </tr>\n",
       "  </tbody>\n",
       "</table>\n",
       "</div>"
      ],
      "text/plain": [
       "      model_name  model_loss  model_acc  training_time\n",
       "0  MNISTFashion1    0.461710  84.225240       5.279207\n",
       "1  MNISTFashion2    0.490557  83.196885      14.041817\n",
       "2  MNISTFashion3    0.296047  89.097444      19.099531"
      ]
     },
     "execution_count": 92,
     "metadata": {},
     "output_type": "execute_result"
    }
   ],
   "source": [
    "# Add training times to results comparison\n",
    "compare_results[\"training_time\"] = [total_train_time_model_0,\n",
    "                                    total_train_time_model_1,\n",
    "                                    total_train_time_model_2]\n",
    "compare_results"
   ]
  }
 ],
 "metadata": {
  "kernelspec": {
   "display_name": "pytorch",
   "language": "python",
   "name": "python3"
  },
  "language_info": {
   "codemirror_mode": {
    "name": "ipython",
    "version": 3
   },
   "file_extension": ".py",
   "mimetype": "text/x-python",
   "name": "python",
   "nbconvert_exporter": "python",
   "pygments_lexer": "ipython3",
   "version": "3.10.17"
  }
 },
 "nbformat": 4,
 "nbformat_minor": 5
}
